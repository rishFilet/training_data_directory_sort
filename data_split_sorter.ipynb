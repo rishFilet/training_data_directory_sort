{
 "cells": [
  {
   "cell_type": "markdown",
   "metadata": {},
   "source": [
    "# Data split pre processor for classification v1.0"
   ]
  },
  {
   "cell_type": "markdown",
   "metadata": {},
   "source": [
    "- This program works with the bash script labeller.sh\n",
    "- labeller.sh can be edited for more than two classes\n",
    "- After running the current labeller.sh, it will create two classes for 1 and 0\n",
    "- The directory where the classes for the data are stored should be the rootpath in the cell below\n",
    "\n",
    "**NOTE**: The split is 80/20 for Train/Test and then out of that 80% Train is 80/20 for Train/Valid"
   ]
  },
  {
   "cell_type": "code",
   "execution_count": 135,
   "metadata": {},
   "outputs": [
    {
     "data": {
      "text/plain": [
       "'/Users/rkhan/Downloads/ships-in-satellite-imagery/shipsnet'"
      ]
     },
     "execution_count": 135,
     "metadata": {},
     "output_type": "execute_result"
    }
   ],
   "source": [
    "import os\n",
    "import random\n",
    "import shutil\n",
    "\n",
    "rootPath=\"/Users/rkhan/Downloads/ships-in-satellite-imagery/shipsnet\""
   ]
  },
  {
   "cell_type": "markdown",
   "metadata": {},
   "source": [
    "### Folder, classes setup\n",
    "The classes should be all the classes created by labeller.sh which are folders containing the data as now labelled. The folders are standard and don't need to be altered for most problems. Train, valid, test are standard."
   ]
  },
  {
   "cell_type": "code",
   "execution_count": 136,
   "metadata": {},
   "outputs": [],
   "source": [
    "classes = {\"ships\",\"no_ships\"}\n",
    "folders = {\"train\",\"valid\",\"test\"}"
   ]
  },
  {
   "cell_type": "code",
   "execution_count": null,
   "metadata": {},
   "outputs": [],
   "source": [
    "#The following method creates a directory for each folder if it doesnt exist"
   ]
  },
  {
   "cell_type": "code",
   "execution_count": 137,
   "metadata": {},
   "outputs": [],
   "source": [
    "def createFolder(directory):\n",
    "    try:\n",
    "        if not os.path.exists(directory):\n",
    "            os.makedirs(directory)\n",
    "    except OSError:\n",
    "        print ('Error: Creating directory. ' +  directory)  "
   ]
  },
  {
   "cell_type": "code",
   "execution_count": 138,
   "metadata": {},
   "outputs": [],
   "source": [
    "#The following method randomises the files in the directory of each each class\n",
    "def randomise(c):\n",
    "    files=os.listdir(os.path.join(rootPath,c))\n",
    "    random.shuffle(files)\n",
    "    print (int(len(files)*0.8))\n",
    "    return files"
   ]
  },
  {
   "cell_type": "code",
   "execution_count": 139,
   "metadata": {},
   "outputs": [
    {
     "name": "stdout",
     "output_type": "stream",
     "text": [
      "test\n",
      "2400\n",
      "800\n",
      "train\n",
      "1920\n",
      "640\n",
      "valid\n"
     ]
    }
   ],
   "source": [
    "#Each folder will be iterated, note that using this loop will go through the folders array alphabetically instead\n",
    "#of index numerically. So test, train, valid is the order.\n",
    "for f in folders:\n",
    "    os.chdir(rootPath)\n",
    "    createFolder('./'+f+'/')\n",
    "    os.chdir(os.path.join(rootPath,f))\n",
    "    print (f)\n",
    "    for c in classes:\n",
    "        createFolder('./'+c+'/')\n",
    "        if (f==\"train\"):\n",
    "            shuffledFiles = randomise(c)\n",
    "            for x in shuffledFiles:\n",
    "                shutil.move(os.path.join(os.path.join(rootPath,c),x),os.path.join(os.getcwd(),c))\n",
    "        elif (f==\"valid\"):\n",
    "            files=os.listdir(os.path.join(os.path.join(rootPath,\"train\"),c))\n",
    "            for x in files[:int((len(files))*0.2)]:\n",
    "                shutil.move(os.path.join(os.path.join(os.path.join(rootPath,\"train\"),c),x),os.path.join(os.getcwd(),c))\n",
    "        elif (f==\"test\"):\n",
    "            shuffledFiles = randomise(c)\n",
    "            for x in shuffledFiles[:int((len(shuffledFiles))*0.2)]:\n",
    "                shutil.move(os.path.join(os.path.join(rootPath,c),x),os.path.join(os.getcwd(),c))  "
   ]
  },
  {
   "cell_type": "code",
   "execution_count": 140,
   "metadata": {},
   "outputs": [
    {
     "name": "stdout",
     "output_type": "stream",
     "text": [
      "test / no_ships :  600\n",
      "test / ships :  200\n",
      "train / no_ships :  1920\n",
      "train / ships :  640\n",
      "valid / no_ships :  480\n",
      "valid / ships :  160\n"
     ]
    }
   ],
   "source": [
    "#Outputs the number of files in each folder that has been split\n",
    "for f in folders:\n",
    "    for c in classes:\n",
    "        print (f, \"/\", c, \": \",len(os.listdir(os.path.join(os.path.join(rootPath,f),c))))"
   ]
  },
  {
   "cell_type": "code",
   "execution_count": 141,
   "metadata": {},
   "outputs": [],
   "source": [
    "#Removes the empty class folders\n",
    "for c in classes:\n",
    "    os.rmdir(os.path.join(rootPath,c))"
   ]
  }
 ],
 "metadata": {
  "kernelspec": {
   "display_name": "Python 3",
   "language": "python",
   "name": "python3"
  },
  "language_info": {
   "codemirror_mode": {
    "name": "ipython",
    "version": 3
   },
   "file_extension": ".py",
   "mimetype": "text/x-python",
   "name": "python",
   "nbconvert_exporter": "python",
   "pygments_lexer": "ipython3",
   "version": "3.6.4"
  }
 },
 "nbformat": 4,
 "nbformat_minor": 2
}
